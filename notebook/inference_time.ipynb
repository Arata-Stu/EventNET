{
 "cells": [
  {
   "cell_type": "code",
   "execution_count": 1,
   "metadata": {},
   "outputs": [],
   "source": [
    "import sys\n",
    "import os\n",
    "\n",
    "# プロジェクトのルートディレクトリを指定\n",
    "project_root = os.path.abspath(os.path.join(os.getcwd(), './..'))\n",
    "sys.path.append(project_root)\n",
    "\n",
    "# current_dir = os.getcwd()\n",
    "# os.environ['PROJECT_ROOT'] = os.path.join(current_dir, '..')"
   ]
  },
  {
   "cell_type": "code",
   "execution_count": null,
   "metadata": {},
   "outputs": [
    {
     "name": "stdout",
     "output_type": "stream",
     "text": [
      "num_class 2\n",
      "Set partition sizes: (8, 10)\n"
     ]
    }
   ],
   "source": [
    "from omegaconf import OmegaConf\n",
    "from config.modifier import dynamically_modify_train_config\n",
    "config_paths = [\n",
    "        '../config/dataset/gen1/event_frame/single/base.yaml',\n",
    "        '../config/model/rvt_detector/rvt_frame.yaml',\n",
    "        '../config/experiment/sequence/train.yaml',\n",
    "    ]\n",
    "\n",
    "configs = [OmegaConf.load(path) for path in config_paths]\n",
    "merged_conf = OmegaConf.merge(*configs)\n",
    "dynamically_modify_train_config(config=merged_conf)"
   ]
  },
  {
   "cell_type": "code",
   "execution_count": 7,
   "metadata": {},
   "outputs": [
    {
     "name": "stdout",
     "output_type": "stream",
     "text": [
      "train dataset size: 49\n",
      "valid dataset size: 58\n",
      "rvt\n",
      "RVT\n",
      "PAFPN\n",
      "neck input channels (64, 128, 256)\n",
      "head strides (8, 16, 32)\n",
      "YOLOX-Head\n"
     ]
    },
    {
     "name": "stderr",
     "output_type": "stream",
     "text": [
      "/var/folders/0f/5nhrfybd7r1d725z2nywhzg00000gn/T/ipykernel_60353/3336737903.py:10: FutureWarning: You are using `torch.load` with `weights_only=False` (the current default value), which uses the default pickle module implicitly. It is possible to construct malicious pickle data which will execute arbitrary code during unpickling (See https://github.com/pytorch/pytorch/blob/main/SECURITY.md#untrusted-models for more details). In a future release, the default value for `weights_only` will be flipped to `True`. This limits the functions that could be executed during unpickling. Arbitrary objects will no longer be allowed to be loaded via this mode unless they are explicitly allowlisted by the user via `torch.serialization.add_safe_globals`. We recommend you start setting `weights_only=True` for any use case where you don't have full control of the loaded file. Please open an issue on GitHub for any issues related to this experimental feature.\n",
      "  ckpt = torch.load(ckpt_path, map_location=torch.device('cpu'))\n"
     ]
    },
    {
     "data": {
      "text/plain": [
       "<All keys matched successfully>"
      ]
     },
     "execution_count": 7,
     "metadata": {},
     "output_type": "execute_result"
    }
   ],
   "source": [
    "from modules.fetch import fetch_data_module, fetch_model_module\n",
    "import torch\n",
    "\n",
    "data = fetch_data_module(merged_conf)\n",
    "data.setup('fit')\n",
    "model = fetch_model_module(merged_conf)\n",
    "model.setup('fit')\n",
    "\n",
    "ckpt_path = '../scripts/result/gen1/rvt-t/event_frame-dt50/20241116-134504/train/epoch=49-val_AP=0.42.ckpt'\n",
    "ckpt = torch.load(ckpt_path, map_location=torch.device('cpu'))\n",
    "model.load_state_dict(ckpt['state_dict'])"
   ]
  },
  {
   "cell_type": "code",
   "execution_count": null,
   "metadata": {},
   "outputs": [],
   "source": [
    "import time\n",
    "from utils.yolox_utils import to_yolox\n",
    "\n",
    "rnn_model = model.model\n",
    "rnn_model.eval()\n",
    "\n",
    "state = None\n",
    "\n",
    "# 全体の推論時間を計測する\n",
    "start_time = time.time()\n",
    "\n",
    "for i, batch in enumerate(data.val_dataloader()):\n",
    "    # バッチごとの時間計測開始\n",
    "    batch_start_time = time.time()\n",
    "    \n",
    "    events = batch['events'][:, 0].float()  # [batch, sequence_len, ch, h, w]\n",
    "    labels = batch['labels']  # [batch, sequence_len, num, bbox]\n",
    "    targets = to_yolox(labels, mode='train')[:, 0]\n",
    "\n",
    "    # 推論\n",
    "    outputs, state = rnn_model(events, state)\n",
    "    \n",
    "    # バッチごとの時間計測終了\n",
    "    batch_end_time = time.time()\n",
    "    batch_time = batch_end_time - batch_start_time\n",
    "    # print(f\"Batch {i} inference time: {batch_time:.4f} seconds\")\n",
    "    \n",
    "\n",
    "# 全体の推論時間を計測終了\n",
    "end_time = time.time()\n",
    "total_time = end_time - start_time\n",
    "print(f\"Total inference time for {i+1} batches: {total_time:.4f} seconds\")\n"
   ]
  },
  {
   "cell_type": "code",
   "execution_count": null,
   "metadata": {},
   "outputs": [],
   "source": []
  }
 ],
 "metadata": {
  "kernelspec": {
   "display_name": "event_env",
   "language": "python",
   "name": "python3"
  },
  "language_info": {
   "codemirror_mode": {
    "name": "ipython",
    "version": 3
   },
   "file_extension": ".py",
   "mimetype": "text/x-python",
   "name": "python",
   "nbconvert_exporter": "python",
   "pygments_lexer": "ipython3",
   "version": "3.9.19"
  }
 },
 "nbformat": 4,
 "nbformat_minor": 2
}
