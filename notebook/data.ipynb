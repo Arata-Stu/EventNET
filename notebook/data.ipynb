{
 "cells": [
  {
   "cell_type": "code",
   "execution_count": null,
   "metadata": {},
   "outputs": [],
   "source": [
    "import sys\n",
    "import os\n",
    "\n",
    "# プロジェクトのルートディレクトリを指定\n",
    "project_root = os.path.abspath(os.path.join(os.getcwd(), './..'))\n",
    "sys.path.append(project_root)\n",
    "\n",
    "\n",
    "def modify_paths(config):\n",
    "    # dataset.data_dir に ../ を追加\n",
    "    config['dataset']['data_dir'] = os.path.join('..', config['dataset']['data_dir'])\n",
    "\n",
    "    # dataset.split_config が存在する場合に ../ を追加\n",
    "    if 'split_config' in config['dataset']:\n",
    "        config['dataset']['split_config'] = os.path.join('..', config['dataset']['split_config'])\n",
    "\n",
    "    return config"
   ]
  },
  {
   "cell_type": "code",
   "execution_count": null,
   "metadata": {},
   "outputs": [],
   "source": [
    "from omegaconf import OmegaConf\n",
    "from config.modifier import dynamically_modify_train_config\n",
    "config_paths = [\n",
    "        '../config/dataset/gen1/event_frame/dataset.yaml',\n",
    "        '../config/model/yolox/yolox-s.yaml',\n",
    "        '../config/experiment/sequence/train.yaml',\n",
    "    ]\n",
    "\n",
    "configs = [OmegaConf.load(path) for path in config_paths]\n",
    "merged_conf = OmegaConf.merge(*configs)\n",
    "config = modify_paths(merged_conf)\n",
    "dynamically_modify_train_config(config=config)"
   ]
  },
  {
   "cell_type": "code",
   "execution_count": null,
   "metadata": {},
   "outputs": [],
   "source": [
    "from modules.fetch import fetch_data_module\n",
    "\n",
    "data = fetch_data_module(full_config=config)\n",
    "data.setup('fit')"
   ]
  },
  {
   "cell_type": "code",
   "execution_count": null,
   "metadata": {},
   "outputs": [],
   "source": [
    "data_loader = data.train_dataloader()\n",
    "data_iter = iter(data_loader)\n",
    "train_dataset = data.valid_dataset"
   ]
  },
  {
   "cell_type": "code",
   "execution_count": null,
   "metadata": {},
   "outputs": [],
   "source": [
    "from utils.visualize import save_sequence_as_video_from_dataloader, save_sequence_as_video_from_dataset\n",
    "save_sequence_as_video_from_dataloader(dataloader=data_loader,\n",
    "                                       t_ms=50,\n",
    "                                       output_file='output.mp4')\n",
    "\n",
    "# save_sequence_as_video_from_dataset(dataset=train_dataset,\n",
    "#                                     start_index=0,\n",
    "#                                     end_index=len(train_dataset)-1,\n",
    "#                                     t_ms=50,\n",
    "#                                     output_file='outputs.mp4')"
   ]
  }
 ],
 "metadata": {
  "kernelspec": {
   "display_name": "event_env",
   "language": "python",
   "name": "python3"
  },
  "language_info": {
   "codemirror_mode": {
    "name": "ipython",
    "version": 3
   },
   "file_extension": ".py",
   "mimetype": "text/x-python",
   "name": "python",
   "nbconvert_exporter": "python",
   "pygments_lexer": "ipython3",
   "version": "3.9.19"
  }
 },
 "nbformat": 4,
 "nbformat_minor": 2
}
