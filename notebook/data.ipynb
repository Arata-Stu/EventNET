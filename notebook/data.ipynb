{
 "cells": [
  {
   "cell_type": "code",
   "execution_count": null,
   "metadata": {},
   "outputs": [],
   "source": [
    "import sys\n",
    "import os\n",
    "\n",
    "# プロジェクトのルートディレクトリを指定\n",
    "project_root = os.path.abspath(os.path.join(os.getcwd(), './..'))\n",
    "sys.path.append(project_root)\n",
    "\n",
    "\n",
    "def modify_paths(config):\n",
    "    # dataset.data_dir に ../ を追加\n",
    "    config['dataset']['data_dir'] = os.path.join('..', config['dataset']['data_dir'])\n",
    "\n",
    "    # dataset.split_config が存在する場合に ../ を追加\n",
    "    if 'split_config' in config['dataset']:\n",
    "        config['dataset']['split_config'] = os.path.join('..', config['dataset']['split_config'])\n",
    "\n",
    "    return config"
   ]
  },
  {
   "cell_type": "code",
   "execution_count": null,
   "metadata": {},
   "outputs": [],
   "source": [
    "from omegaconf import OmegaConf\n",
    "from config.modifier import dynamically_modify_train_config\n",
    "config_paths = [\n",
    "        '../config/dataset/gen1/event_frame/sequence/dataset.yaml',\n",
    "        '../config/model/rvt_detector/rvt_frame.yaml',\n",
    "        '../config/experiment/sequence/train.yaml',\n",
    "    ]\n",
    "\n",
    "configs = [OmegaConf.load(path) for path in config_paths]\n",
    "merged_conf = OmegaConf.merge(*configs)\n",
    "config = modify_paths(merged_conf)\n",
    "dynamically_modify_train_config(config=config)"
   ]
  },
  {
   "cell_type": "code",
   "execution_count": null,
   "metadata": {},
   "outputs": [],
   "source": [
    "from modules.fetch import fetch_data_module, fetch_model_module\n",
    "\n",
    "data = fetch_data_module(config)\n",
    "data.setup('fit')\n",
    "model = fetch_model_module(config)\n",
    "model.setup('fit')"
   ]
  },
  {
   "cell_type": "code",
   "execution_count": null,
   "metadata": {},
   "outputs": [],
   "source": [
    "data_loader = data.val_dataloader()\n",
    "data_iter = iter(data_loader)"
   ]
  },
  {
   "cell_type": "code",
   "execution_count": null,
   "metadata": {},
   "outputs": [],
   "source": [
    "sample = next(data_iter)"
   ]
  },
  {
   "cell_type": "code",
   "execution_count": null,
   "metadata": {},
   "outputs": [],
   "source": [
    "rnn_model = model.model"
   ]
  },
  {
   "cell_type": "code",
   "execution_count": null,
   "metadata": {},
   "outputs": [],
   "source": [
    "events = sample['events'][:, 0].float()\n",
    "events.shape"
   ]
  },
  {
   "cell_type": "code",
   "execution_count": null,
   "metadata": {},
   "outputs": [],
   "source": [
    "rnn_model.eval()"
   ]
  },
  {
   "cell_type": "code",
   "execution_count": null,
   "metadata": {},
   "outputs": [],
   "source": [
    "outputs, states = rnn_model.forward_backbone(events, None, None)"
   ]
  },
  {
   "cell_type": "code",
   "execution_count": null,
   "metadata": {},
   "outputs": [],
   "source": []
  }
 ],
 "metadata": {
  "kernelspec": {
   "display_name": "event_env",
   "language": "python",
   "name": "python3"
  },
  "language_info": {
   "codemirror_mode": {
    "name": "ipython",
    "version": 3
   },
   "file_extension": ".py",
   "mimetype": "text/x-python",
   "name": "python",
   "nbconvert_exporter": "python",
   "pygments_lexer": "ipython3",
   "version": "3.9.19"
  }
 },
 "nbformat": 4,
 "nbformat_minor": 2
}
