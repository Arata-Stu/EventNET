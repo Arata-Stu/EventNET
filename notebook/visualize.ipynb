{
 "cells": [
  {
   "cell_type": "code",
   "execution_count": null,
   "metadata": {},
   "outputs": [],
   "source": [
    "import sys\n",
    "import os\n",
    "\n",
    "# プロジェクトのルートディレクトリを指定\n",
    "project_root = os.path.abspath(os.path.join(os.getcwd(), './..'))\n",
    "sys.path.append(project_root)"
   ]
  },
  {
   "cell_type": "code",
   "execution_count": null,
   "metadata": {},
   "outputs": [],
   "source": [
    "from omegaconf import OmegaConf\n",
    "from config.modifier import dynamically_modify_train_config\n",
    "config_paths = [\n",
    "        '../config/dataset/gen1/event_frame/sequence/base.yaml',\n",
    "        '../config/model/rvt_detector/rvt_frame.yaml',\n",
    "        '../config/experiment/sequence/train.yaml',\n",
    "    ]\n",
    "\n",
    "configs = [OmegaConf.load(path) for path in config_paths]\n",
    "merged_conf = OmegaConf.merge(*configs)\n",
    "dynamically_modify_train_config(config=merged_conf)"
   ]
  },
  {
   "cell_type": "code",
   "execution_count": null,
   "metadata": {},
   "outputs": [],
   "source": [
    "from modules.fetch import fetch_data_module, fetch_model_module\n",
    "\n",
    "data = fetch_data_module(merged_conf)\n",
    "data.setup('fit')\n",
    "model = fetch_model_module(merged_conf)\n",
    "model.setup('fit')"
   ]
  },
  {
   "cell_type": "code",
   "execution_count": null,
   "metadata": {},
   "outputs": [],
   "source": [
    "from utils.visualize import save_sequence_as_video_from_dataloader\n",
    "\n",
    "save_sequence_as_video_from_dataloader(dataloader=data.train_dataloader(),\n",
    "                                       t_ms=50,\n",
    "                                       output_file='output.mp4',\n",
    "                                       mode='train')"
   ]
  },
  {
   "cell_type": "code",
   "execution_count": null,
   "metadata": {},
   "outputs": [],
   "source": []
  }
 ],
 "metadata": {
  "kernelspec": {
   "display_name": "event_env",
   "language": "python",
   "name": "python3"
  },
  "language_info": {
   "codemirror_mode": {
    "name": "ipython",
    "version": 3
   },
   "file_extension": ".py",
   "mimetype": "text/x-python",
   "name": "python",
   "nbconvert_exporter": "python",
   "pygments_lexer": "ipython3",
   "version": "3.9.19"
  }
 },
 "nbformat": 4,
 "nbformat_minor": 2
}
